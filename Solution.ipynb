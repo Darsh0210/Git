{
 "cells": [
  {
   "cell_type": "code",
   "execution_count": 1,
   "metadata": {},
   "outputs": [],
   "source": [
    "# -*- coding: utf-8 -*-\n",
    "\"\"\"\n",
    "Created on Tue Sep 2021\n",
    "\n",
    "@author: Darshan\n",
    "\"\"\"\n",
    "\n",
    "### import the basic packages\n",
    "import pandas as pd"
   ]
  },
  {
   "cell_type": "markdown",
   "metadata": {},
   "source": [
    "#### Declaring the functions"
   ]
  },
  {
   "cell_type": "code",
   "execution_count": null,
   "metadata": {},
   "outputs": [],
   "source": [
    "### declaring data read function\n",
    "def data_read(location):\n",
    "    \"\"\"\n",
    "    purpose : reading the csv data based on the location\n",
    "    input   : csv file location\n",
    "    output  : dataframe\n",
    "    \"\"\"\n",
    "    try:\n",
    "        return pd.read_csv(location)\n",
    "    except:\n",
    "        raise\n",
    "\n",
    "### declaring data transform function\n",
    "def data_transformation(src_df):\n",
    "    \"\"\"\n",
    "    purpose : transforming the data by applying all the required operations \n",
    "    input   : dataframe\n",
    "    output  : final dataframe after transformation\n",
    "    \"\"\"\n",
    "    try:\n",
    "        src_df['invoicedate'] = pd.to_datetime(df['invoicedate'])   # converting the invoicedate column to date format\n",
    "        src_df['total_paid']  = src_df['quantity']*df['unitprice']  # calculating the total paid by quantity*unitprice\n",
    "        src_df['month'] = src_df['invoicedate'].dt.month            # extracting month values\n",
    "        src_df['year']  = src_df['invoicedate'].dt.year             # extracting year values\n",
    "        \n",
    "        # goruping the dataframe to the required level and aggrgating the total_paid \n",
    "        grp_cols = ['month','year','description']\n",
    "        trns_df  =  src_df.groupby(grp_cols).agg({\"total_paid\":\"sum\"}).reset_index()\n",
    "        \n",
    "        # calculating the rank based on the year and month level for total_paid amount \n",
    "        trns_df['rank'] = trns_df.groupby(['month','year'])['total_paid'].rank(ascending=False)\n",
    "        \n",
    "        # getting the final dataframe\n",
    "        cols = ['month','year','description','total_paid']  # declaring final columns required in the dataframe\n",
    "        final_df = trns_df[trns_df['rank']==1][cols]        # filtering the data for rank =1 and selecting the required columns\n",
    "        \n",
    "        return final_df\n",
    "    except:\n",
    "        raise"
   ]
  },
  {
   "cell_type": "markdown",
   "metadata": {},
   "source": [
    "#### calling the functions"
   ]
  },
  {
   "cell_type": "code",
   "execution_count": 37,
   "metadata": {},
   "outputs": [],
   "source": [
    "### declaing the data file location\n",
    "data_location = 'data.csv'\n",
    "\n",
    "### reading the data from data location\n",
    "df_src = data_read(data_location)\n",
    "\n",
    "### transforming base data\n",
    "df_final = data_transformation(df_src)"
   ]
  },
  {
   "cell_type": "code",
   "execution_count": 40,
   "metadata": {},
   "outputs": [],
   "source": []
  },
  {
   "cell_type": "code",
   "execution_count": null,
   "metadata": {},
   "outputs": [],
   "source": []
  },
  {
   "cell_type": "code",
   "execution_count": null,
   "metadata": {},
   "outputs": [],
   "source": []
  },
  {
   "cell_type": "code",
   "execution_count": null,
   "metadata": {},
   "outputs": [],
   "source": []
  },
  {
   "cell_type": "code",
   "execution_count": null,
   "metadata": {},
   "outputs": [],
   "source": []
  }
 ],
 "metadata": {
  "kernelspec": {
   "display_name": "Python 3",
   "language": "python",
   "name": "python3"
  },
  "language_info": {
   "codemirror_mode": {
    "name": "ipython",
    "version": 3
   },
   "file_extension": ".py",
   "mimetype": "text/x-python",
   "name": "python",
   "nbconvert_exporter": "python",
   "pygments_lexer": "ipython3",
   "version": "3.8.8"
  },
  "toc": {
   "base_numbering": 1,
   "nav_menu": {},
   "number_sections": true,
   "sideBar": true,
   "skip_h1_title": false,
   "title_cell": "Table of Contents",
   "title_sidebar": "Contents",
   "toc_cell": false,
   "toc_position": {},
   "toc_section_display": true,
   "toc_window_display": false
  },
  "varInspector": {
   "cols": {
    "lenName": 16,
    "lenType": 16,
    "lenVar": 40
   },
   "kernels_config": {
    "python": {
     "delete_cmd_postfix": "",
     "delete_cmd_prefix": "del ",
     "library": "var_list.py",
     "varRefreshCmd": "print(var_dic_list())"
    },
    "r": {
     "delete_cmd_postfix": ") ",
     "delete_cmd_prefix": "rm(",
     "library": "var_list.r",
     "varRefreshCmd": "cat(var_dic_list()) "
    }
   },
   "types_to_exclude": [
    "module",
    "function",
    "builtin_function_or_method",
    "instance",
    "_Feature"
   ],
   "window_display": false
  }
 },
 "nbformat": 4,
 "nbformat_minor": 4
}
